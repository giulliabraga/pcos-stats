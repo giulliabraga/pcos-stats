{
 "cells": [
  {
   "cell_type": "markdown",
   "metadata": {},
   "source": [
    "## Integrando os datasets"
   ]
  },
  {
   "cell_type": "code",
   "execution_count": 1,
   "metadata": {},
   "outputs": [],
   "source": [
    "import pandas as pd\n",
    "import sys\n",
    "import os\n",
    "sys.path.append(os.path.abspath('../modules'))\n",
    "from dataset_integration import DatasetIntegration"
   ]
  },
  {
   "cell_type": "code",
   "execution_count": 2,
   "metadata": {},
   "outputs": [],
   "source": [
    "categorical_columns = ['Acne', 'Atividade física regular', 'Duração do período menstrual', 'Fast food regular', 'Ganho de peso', 'Grupo ABO', 'Hiperpigmentação da pele', 'Hirsutismo', 'Menstruação regular', 'Queda de cabelo', 'Diagnóstico SOP']\n",
    "\n",
    "numerical_columns = ['Altura', 'Idade', 'Peso']\n",
    "\n",
    "dataset_1 = pd.read_csv('../data/dataset1-preproc.csv')\n",
    "\n",
    "dataset_2 = pd.read_csv('../data/dataset2-preproc.csv')"
   ]
  },
  {
   "cell_type": "code",
   "execution_count": 3,
   "metadata": {},
   "outputs": [],
   "source": [
    "integration = DatasetIntegration(dataset_1=dataset_1,\n",
    "                                 dataset_2=dataset_2,\n",
    "                                 numerical_columns=numerical_columns,\n",
    "                                 categorical_columns=categorical_columns)"
   ]
  },
  {
   "cell_type": "code",
   "execution_count": 4,
   "metadata": {},
   "outputs": [
    {
     "name": "stdout",
     "output_type": "stream",
     "text": [
      "  Variável  Estatísica       p-valor  São diferentes\n",
      "0   Altura    0.233990  1.706372e-12            True\n",
      "1    Idade    0.545042  1.083406e-68            True\n",
      "2     Peso    0.054958  4.181132e-01           False\n",
      "['Peso']\n"
     ]
    }
   ],
   "source": [
    "ks_results, num_cols_to_merge = integration.run_ks_test()\n",
    "print(ks_results)\n",
    "print(num_cols_to_merge)"
   ]
  },
  {
   "cell_type": "code",
   "execution_count": 5,
   "metadata": {},
   "outputs": [
    {
     "name": "stdout",
     "output_type": "stream",
     "text": [
      "                        Variável  Estatística   p-valor  São diferentes\n",
      "0                           Acne     0.477062  0.489756           False\n",
      "1       Atividade física regular     0.019942  0.887700           False\n",
      "2   Duração do período menstrual    77.433538  0.999282           False\n",
      "3              Fast food regular     0.002924  0.956878           False\n",
      "4                  Ganho de peso     0.023254  0.878799           False\n",
      "5                      Grupo ABO    26.805081  0.838174           False\n",
      "6       Hiperpigmentação da pele     0.653912  0.418718           False\n",
      "7                     Hirsutismo     2.776728  0.095643           False\n",
      "8            Menstruação regular     0.075781  0.783099           False\n",
      "9                Queda de cabelo     1.037691  0.308359           False\n",
      "10               Diagnóstico SOP     0.000000  1.000000           False\n",
      "['Acne' 'Atividade física regular' 'Duração do período menstrual'\n",
      " 'Fast food regular' 'Ganho de peso' 'Grupo ABO'\n",
      " 'Hiperpigmentação da pele' 'Hirsutismo' 'Menstruação regular'\n",
      " 'Queda de cabelo' 'Diagnóstico SOP']\n"
     ]
    }
   ],
   "source": [
    "chi2_results, cat_cols_to_merge = integration.run_chi2_test()\n",
    "print(chi2_results)\n",
    "print(cat_cols_to_merge)"
   ]
  },
  {
   "cell_type": "code",
   "execution_count": 7,
   "metadata": {},
   "outputs": [
    {
     "name": "stdout",
     "output_type": "stream",
     "text": [
      "Resultados do teste Komolgorov-Smirnov: \n",
      "\n"
     ]
    },
    {
     "data": {
      "text/html": [
       "<div>\n",
       "<style scoped>\n",
       "    .dataframe tbody tr th:only-of-type {\n",
       "        vertical-align: middle;\n",
       "    }\n",
       "\n",
       "    .dataframe tbody tr th {\n",
       "        vertical-align: top;\n",
       "    }\n",
       "\n",
       "    .dataframe thead th {\n",
       "        text-align: right;\n",
       "    }\n",
       "</style>\n",
       "<table border=\"1\" class=\"dataframe\">\n",
       "  <thead>\n",
       "    <tr style=\"text-align: right;\">\n",
       "      <th></th>\n",
       "      <th>Variável</th>\n",
       "      <th>Estatísica</th>\n",
       "      <th>p-valor</th>\n",
       "      <th>São diferentes</th>\n",
       "    </tr>\n",
       "  </thead>\n",
       "  <tbody>\n",
       "    <tr>\n",
       "      <th>0</th>\n",
       "      <td>Altura</td>\n",
       "      <td>0.233990</td>\n",
       "      <td>1.706372e-12</td>\n",
       "      <td>True</td>\n",
       "    </tr>\n",
       "    <tr>\n",
       "      <th>1</th>\n",
       "      <td>Idade</td>\n",
       "      <td>0.545042</td>\n",
       "      <td>1.083406e-68</td>\n",
       "      <td>True</td>\n",
       "    </tr>\n",
       "    <tr>\n",
       "      <th>2</th>\n",
       "      <td>Peso</td>\n",
       "      <td>0.054958</td>\n",
       "      <td>4.181132e-01</td>\n",
       "      <td>False</td>\n",
       "    </tr>\n",
       "  </tbody>\n",
       "</table>\n",
       "</div>"
      ],
      "text/plain": [
       "  Variável  Estatísica       p-valor  São diferentes\n",
       "0   Altura    0.233990  1.706372e-12            True\n",
       "1    Idade    0.545042  1.083406e-68            True\n",
       "2     Peso    0.054958  4.181132e-01           False"
      ]
     },
     "metadata": {},
     "output_type": "display_data"
    },
    {
     "name": "stdout",
     "output_type": "stream",
     "text": [
      "\n",
      "Resultados do teste Chi-Quadrado: \n",
      "\n"
     ]
    },
    {
     "data": {
      "text/html": [
       "<div>\n",
       "<style scoped>\n",
       "    .dataframe tbody tr th:only-of-type {\n",
       "        vertical-align: middle;\n",
       "    }\n",
       "\n",
       "    .dataframe tbody tr th {\n",
       "        vertical-align: top;\n",
       "    }\n",
       "\n",
       "    .dataframe thead th {\n",
       "        text-align: right;\n",
       "    }\n",
       "</style>\n",
       "<table border=\"1\" class=\"dataframe\">\n",
       "  <thead>\n",
       "    <tr style=\"text-align: right;\">\n",
       "      <th></th>\n",
       "      <th>Variável</th>\n",
       "      <th>Estatística</th>\n",
       "      <th>p-valor</th>\n",
       "      <th>São diferentes</th>\n",
       "    </tr>\n",
       "  </thead>\n",
       "  <tbody>\n",
       "    <tr>\n",
       "      <th>0</th>\n",
       "      <td>Acne</td>\n",
       "      <td>0.477062</td>\n",
       "      <td>0.489756</td>\n",
       "      <td>False</td>\n",
       "    </tr>\n",
       "    <tr>\n",
       "      <th>1</th>\n",
       "      <td>Atividade física regular</td>\n",
       "      <td>0.019942</td>\n",
       "      <td>0.887700</td>\n",
       "      <td>False</td>\n",
       "    </tr>\n",
       "    <tr>\n",
       "      <th>2</th>\n",
       "      <td>Duração do período menstrual</td>\n",
       "      <td>77.433538</td>\n",
       "      <td>0.999282</td>\n",
       "      <td>False</td>\n",
       "    </tr>\n",
       "    <tr>\n",
       "      <th>3</th>\n",
       "      <td>Fast food regular</td>\n",
       "      <td>0.002924</td>\n",
       "      <td>0.956878</td>\n",
       "      <td>False</td>\n",
       "    </tr>\n",
       "    <tr>\n",
       "      <th>4</th>\n",
       "      <td>Ganho de peso</td>\n",
       "      <td>0.023254</td>\n",
       "      <td>0.878799</td>\n",
       "      <td>False</td>\n",
       "    </tr>\n",
       "    <tr>\n",
       "      <th>5</th>\n",
       "      <td>Grupo ABO</td>\n",
       "      <td>26.805081</td>\n",
       "      <td>0.838174</td>\n",
       "      <td>False</td>\n",
       "    </tr>\n",
       "    <tr>\n",
       "      <th>6</th>\n",
       "      <td>Hiperpigmentação da pele</td>\n",
       "      <td>0.653912</td>\n",
       "      <td>0.418718</td>\n",
       "      <td>False</td>\n",
       "    </tr>\n",
       "    <tr>\n",
       "      <th>7</th>\n",
       "      <td>Hirsutismo</td>\n",
       "      <td>2.776728</td>\n",
       "      <td>0.095643</td>\n",
       "      <td>False</td>\n",
       "    </tr>\n",
       "    <tr>\n",
       "      <th>8</th>\n",
       "      <td>Menstruação regular</td>\n",
       "      <td>0.075781</td>\n",
       "      <td>0.783099</td>\n",
       "      <td>False</td>\n",
       "    </tr>\n",
       "    <tr>\n",
       "      <th>9</th>\n",
       "      <td>Queda de cabelo</td>\n",
       "      <td>1.037691</td>\n",
       "      <td>0.308359</td>\n",
       "      <td>False</td>\n",
       "    </tr>\n",
       "    <tr>\n",
       "      <th>10</th>\n",
       "      <td>Diagnóstico SOP</td>\n",
       "      <td>0.000000</td>\n",
       "      <td>1.000000</td>\n",
       "      <td>False</td>\n",
       "    </tr>\n",
       "  </tbody>\n",
       "</table>\n",
       "</div>"
      ],
      "text/plain": [
       "                        Variável  Estatística   p-valor  São diferentes\n",
       "0                           Acne     0.477062  0.489756           False\n",
       "1       Atividade física regular     0.019942  0.887700           False\n",
       "2   Duração do período menstrual    77.433538  0.999282           False\n",
       "3              Fast food regular     0.002924  0.956878           False\n",
       "4                  Ganho de peso     0.023254  0.878799           False\n",
       "5                      Grupo ABO    26.805081  0.838174           False\n",
       "6       Hiperpigmentação da pele     0.653912  0.418718           False\n",
       "7                     Hirsutismo     2.776728  0.095643           False\n",
       "8            Menstruação regular     0.075781  0.783099           False\n",
       "9                Queda de cabelo     1.037691  0.308359           False\n",
       "10               Diagnóstico SOP     0.000000  1.000000           False"
      ]
     },
     "metadata": {},
     "output_type": "display_data"
    }
   ],
   "source": [
    "integrated_dataset = integration.merge_datasets()"
   ]
  },
  {
   "cell_type": "code",
   "execution_count": 8,
   "metadata": {},
   "outputs": [
    {
     "name": "stdout",
     "output_type": "stream",
     "text": [
      "<class 'pandas.core.frame.DataFrame'>\n",
      "RangeIndex: 1005 entries, 0 to 1004\n",
      "Data columns (total 12 columns):\n",
      " #   Column                        Non-Null Count  Dtype  \n",
      "---  ------                        --------------  -----  \n",
      " 0   Peso                          1005 non-null   float64\n",
      " 1   Acne                          1005 non-null   int64  \n",
      " 2   Atividade física regular      1005 non-null   int64  \n",
      " 3   Duração do período menstrual  1005 non-null   int64  \n",
      " 4   Fast food regular             1005 non-null   int64  \n",
      " 5   Ganho de peso                 1005 non-null   int64  \n",
      " 6   Grupo ABO                     1005 non-null   int64  \n",
      " 7   Hiperpigmentação da pele      1005 non-null   int64  \n",
      " 8   Hirsutismo                    1005 non-null   int64  \n",
      " 9   Menstruação regular           1005 non-null   int64  \n",
      " 10  Queda de cabelo               1005 non-null   int64  \n",
      " 11  Diagnóstico SOP               1005 non-null   int64  \n",
      "dtypes: float64(1), int64(11)\n",
      "memory usage: 94.3 KB\n"
     ]
    }
   ],
   "source": [
    "integrated_dataset.info()"
   ]
  },
  {
   "cell_type": "code",
   "execution_count": 9,
   "metadata": {},
   "outputs": [],
   "source": [
    "integrated_dataset.to_csv('../data/integrated-dataset.csv')"
   ]
  }
 ],
 "metadata": {
  "kernelspec": {
   "display_name": "Python 3",
   "language": "python",
   "name": "python3"
  },
  "language_info": {
   "codemirror_mode": {
    "name": "ipython",
    "version": 3
   },
   "file_extension": ".py",
   "mimetype": "text/x-python",
   "name": "python",
   "nbconvert_exporter": "python",
   "pygments_lexer": "ipython3",
   "version": "3.12.3"
  }
 },
 "nbformat": 4,
 "nbformat_minor": 2
}
